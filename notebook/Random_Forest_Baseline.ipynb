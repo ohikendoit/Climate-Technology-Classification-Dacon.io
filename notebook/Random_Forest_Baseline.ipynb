{
 "cells": [
  {
   "cell_type": "markdown",
   "metadata": {
    "collapsed": true
   },
   "source": [
    "## Load data and library"
   ]
  },
  {
   "cell_type": "code",
   "execution_count": 1,
   "metadata": {},
   "outputs": [],
   "source": [
    "#!python -m pip uninstall JPype1"
   ]
  },
  {
   "cell_type": "code",
   "execution_count": 2,
   "metadata": {},
   "outputs": [],
   "source": [
    "#!pip install konlpy --user"
   ]
  },
  {
   "cell_type": "code",
   "execution_count": 3,
   "metadata": {},
   "outputs": [],
   "source": [
    "import pandas as pd\n",
    "import numpy as np\n",
    "import matplotlib.pyplot as plt\n",
    "import re\n",
    "import json\n",
    "import os\n",
    "import tqdm\n",
    "\n",
    "from konlpy.tag import Okt\n",
    "\n",
    "import sklearn\n",
    "from sklearn.preprocessing import LabelEncoder\n",
    "from sklearn.model_selection import train_test_split\n",
    "from sklearn.metrics import log_loss, accuracy_score, f1_score\n",
    "from sklearn.feature_extraction.text import CountVectorizer\n",
    "from sklearn.ensemble import RandomForestClassifier"
   ]
  },
  {
   "cell_type": "code",
   "execution_count": 4,
   "metadata": {},
   "outputs": [],
   "source": [
    "train=pd.read_csv('../data/train.csv')\n",
    "test=pd.read_csv('../data/test.csv')\n",
    "sample_submission=pd.read_csv('../data/sample_submission.csv')"
   ]
  },
  {
   "cell_type": "code",
   "execution_count": 5,
   "metadata": {},
   "outputs": [
    {
     "data": {
      "text/html": [
       "<div>\n",
       "<style scoped>\n",
       "    .dataframe tbody tr th:only-of-type {\n",
       "        vertical-align: middle;\n",
       "    }\n",
       "\n",
       "    .dataframe tbody tr th {\n",
       "        vertical-align: top;\n",
       "    }\n",
       "\n",
       "    .dataframe thead th {\n",
       "        text-align: right;\n",
       "    }\n",
       "</style>\n",
       "<table border=\"1\" class=\"dataframe\">\n",
       "  <thead>\n",
       "    <tr style=\"text-align: right;\">\n",
       "      <th></th>\n",
       "      <th>index</th>\n",
       "      <th>제출년도</th>\n",
       "      <th>사업명</th>\n",
       "      <th>사업_부처명</th>\n",
       "      <th>계속과제여부</th>\n",
       "      <th>내역사업명</th>\n",
       "      <th>과제명</th>\n",
       "      <th>요약문_연구목표</th>\n",
       "      <th>요약문_연구내용</th>\n",
       "      <th>요약문_기대효과</th>\n",
       "      <th>요약문_한글키워드</th>\n",
       "      <th>요약문_영문키워드</th>\n",
       "      <th>label</th>\n",
       "    </tr>\n",
       "  </thead>\n",
       "  <tbody>\n",
       "    <tr>\n",
       "      <td>0</td>\n",
       "      <td>0</td>\n",
       "      <td>2016</td>\n",
       "      <td>농업기초기반연구</td>\n",
       "      <td>농촌진흥청</td>\n",
       "      <td>신규</td>\n",
       "      <td>농산물안전성연구</td>\n",
       "      <td>유전정보를 활용한 새로운 해충 분류군 동정기술 개발</td>\n",
       "      <td>○ 새로운 해충분류군의 동정기술 개발 및 유입확산 추적</td>\n",
       "      <td>(가) 외래 및 돌발해충의 발생조사 및 종 동정\\n\\n\\n    ○ 대상해충 : 최...</td>\n",
       "      <td>○ 새로운 돌발 및 외래해충의 신속, 정확한 동정법 향상\\n\\n\\n○ 돌발 및 외래...</td>\n",
       "      <td>뉴클레오티드 염기서열, 분자마커, 종 동정, 침샘, 전사체</td>\n",
       "      <td>nucleotide sequence, molecular marker, species...</td>\n",
       "      <td>24</td>\n",
       "    </tr>\n",
       "    <tr>\n",
       "      <td>1</td>\n",
       "      <td>1</td>\n",
       "      <td>2019</td>\n",
       "      <td>이공학학술연구기반구축(R&amp;D)</td>\n",
       "      <td>교육부</td>\n",
       "      <td>신규</td>\n",
       "      <td>지역대학우수과학자지원사업(1년~5년)</td>\n",
       "      <td>대장암의 TRAIL 내성 표적 인자 발굴 및 TRAIL 반응 예측 유전자 지도 구축...</td>\n",
       "      <td>최종목표:  TRAIL 감수성 표적 유전자를 발굴하고 내성제어 기전을 연구. 발굴된...</td>\n",
       "      <td>1차년도\\n1) Microarray를 통한 선천적 TRAIL 내성 표적 후보 유전자...</td>\n",
       "      <td>1) TRAIL 내성 특이적 표적분자를 발굴하고, 이를 이용한 TRAIL 효과 증진...</td>\n",
       "      <td>대장암,항암제 내성,세포사멸,유전자발굴</td>\n",
       "      <td>TRAIL,Colorectal cancer,TRAIL resistance,Apopt...</td>\n",
       "      <td>0</td>\n",
       "    </tr>\n",
       "    <tr>\n",
       "      <td>2</td>\n",
       "      <td>2</td>\n",
       "      <td>2016</td>\n",
       "      <td>중소기업기술혁신개발</td>\n",
       "      <td>중소기업청</td>\n",
       "      <td>신규</td>\n",
       "      <td>혁신기업기술개발</td>\n",
       "      <td>비목질계 셀룰로오스 식물자원을 활용한 기능성 부직포 및 고부가가치 뷰티케어 faci...</td>\n",
       "      <td>* 식물계자원 정련 및 최적 신서란 파이버 기초연구 개발\\n\\n\\n* 소비자 및 바...</td>\n",
       "      <td>* 식물계자원 정련 및 최적 신서란 파이버 기초연구 개발\\n\\n\\n- Tencel/...</td>\n",
       "      <td>* 국내 독자적인 비목질계 셀룰로오스 자원의 파이버 및 부직포 제조 등의 기술 확보...</td>\n",
       "      <td>기능성 샐룰로오스 파이버,천연섬유,기능성 부직포,뷰티&amp;amp;케어 제품,미용 솜</td>\n",
       "      <td>functional cellulose fiber,natural fiber,funct...</td>\n",
       "      <td>0</td>\n",
       "    </tr>\n",
       "  </tbody>\n",
       "</table>\n",
       "</div>"
      ],
      "text/plain": [
       "   index  제출년도               사업명 사업_부처명 계속과제여부                 내역사업명  \\\n",
       "0      0  2016          농업기초기반연구  농촌진흥청     신규              농산물안전성연구   \n",
       "1      1  2019  이공학학술연구기반구축(R&D)    교육부     신규  지역대학우수과학자지원사업(1년~5년)   \n",
       "2      2  2016        중소기업기술혁신개발  중소기업청     신규              혁신기업기술개발   \n",
       "\n",
       "                                                 과제명  \\\n",
       "0                       유전정보를 활용한 새로운 해충 분류군 동정기술 개발   \n",
       "1  대장암의 TRAIL 내성 표적 인자 발굴 및 TRAIL 반응 예측 유전자 지도 구축...   \n",
       "2  비목질계 셀룰로오스 식물자원을 활용한 기능성 부직포 및 고부가가치 뷰티케어 faci...   \n",
       "\n",
       "                                            요약문_연구목표  \\\n",
       "0                     ○ 새로운 해충분류군의 동정기술 개발 및 유입확산 추적   \n",
       "1  최종목표:  TRAIL 감수성 표적 유전자를 발굴하고 내성제어 기전을 연구. 발굴된...   \n",
       "2  * 식물계자원 정련 및 최적 신서란 파이버 기초연구 개발\\n\\n\\n* 소비자 및 바...   \n",
       "\n",
       "                                            요약문_연구내용  \\\n",
       "0  (가) 외래 및 돌발해충의 발생조사 및 종 동정\\n\\n\\n    ○ 대상해충 : 최...   \n",
       "1  1차년도\\n1) Microarray를 통한 선천적 TRAIL 내성 표적 후보 유전자...   \n",
       "2  * 식물계자원 정련 및 최적 신서란 파이버 기초연구 개발\\n\\n\\n- Tencel/...   \n",
       "\n",
       "                                            요약문_기대효과  \\\n",
       "0  ○ 새로운 돌발 및 외래해충의 신속, 정확한 동정법 향상\\n\\n\\n○ 돌발 및 외래...   \n",
       "1  1) TRAIL 내성 특이적 표적분자를 발굴하고, 이를 이용한 TRAIL 효과 증진...   \n",
       "2  * 국내 독자적인 비목질계 셀룰로오스 자원의 파이버 및 부직포 제조 등의 기술 확보...   \n",
       "\n",
       "                                      요약문_한글키워드  \\\n",
       "0              뉴클레오티드 염기서열, 분자마커, 종 동정, 침샘, 전사체   \n",
       "1                         대장암,항암제 내성,세포사멸,유전자발굴   \n",
       "2  기능성 샐룰로오스 파이버,천연섬유,기능성 부직포,뷰티&amp;케어 제품,미용 솜   \n",
       "\n",
       "                                           요약문_영문키워드  label  \n",
       "0  nucleotide sequence, molecular marker, species...     24  \n",
       "1  TRAIL,Colorectal cancer,TRAIL resistance,Apopt...      0  \n",
       "2  functional cellulose fiber,natural fiber,funct...      0  "
      ]
     },
     "execution_count": 5,
     "metadata": {},
     "output_type": "execute_result"
    }
   ],
   "source": [
    "train.head(3)"
   ]
  },
  {
   "cell_type": "code",
   "execution_count": 6,
   "metadata": {},
   "outputs": [
    {
     "data": {
      "text/html": [
       "<div>\n",
       "<style scoped>\n",
       "    .dataframe tbody tr th:only-of-type {\n",
       "        vertical-align: middle;\n",
       "    }\n",
       "\n",
       "    .dataframe tbody tr th {\n",
       "        vertical-align: top;\n",
       "    }\n",
       "\n",
       "    .dataframe thead th {\n",
       "        text-align: right;\n",
       "    }\n",
       "</style>\n",
       "<table border=\"1\" class=\"dataframe\">\n",
       "  <thead>\n",
       "    <tr style=\"text-align: right;\">\n",
       "      <th></th>\n",
       "      <th>index</th>\n",
       "      <th>제출년도</th>\n",
       "      <th>사업명</th>\n",
       "      <th>사업_부처명</th>\n",
       "      <th>계속과제여부</th>\n",
       "      <th>내역사업명</th>\n",
       "      <th>과제명</th>\n",
       "      <th>요약문_연구목표</th>\n",
       "      <th>요약문_연구내용</th>\n",
       "      <th>요약문_기대효과</th>\n",
       "      <th>요약문_한글키워드</th>\n",
       "      <th>요약문_영문키워드</th>\n",
       "    </tr>\n",
       "  </thead>\n",
       "  <tbody>\n",
       "    <tr>\n",
       "      <td>0</td>\n",
       "      <td>174304</td>\n",
       "      <td>2016</td>\n",
       "      <td>경제협력권산업육성</td>\n",
       "      <td>산업통상자원부</td>\n",
       "      <td>신규</td>\n",
       "      <td>자동차융합부품</td>\n",
       "      <td>R-FSSW 기술 적용 경량 차체 부품 개발 및 품질 평가를 위한 64채널 C-SC...</td>\n",
       "      <td>○ 차체 점용접부의 품질 검사를 위한 64채널 무선 기반 C-Scan 탐촉자 개발\\...</td>\n",
       "      <td>○ 1차년도\\n\\n    . 개발 탐촉 시스템의 성능 평가 위한 표준 시편 제작 시...</td>\n",
       "      <td>○ 기술적 파급효과\\n\\n  - 본 연구에서 개발된 R-FSSW 접합 기술은 기존 ...</td>\n",
       "      <td>마찰교반점용접, 비파괴 검사, 초음파 탐상, 씨 스캔, 용접 품질 평가</td>\n",
       "      <td>Friction Stir Spot Welding, Non-destructive ev...</td>\n",
       "    </tr>\n",
       "    <tr>\n",
       "      <td>1</td>\n",
       "      <td>174305</td>\n",
       "      <td>2018</td>\n",
       "      <td>개인기초연구(과기정통부)(R&amp;D)</td>\n",
       "      <td>과학기술정보통신부</td>\n",
       "      <td>계속</td>\n",
       "      <td>신진연구(총연구비5천이상~1.5억이하)</td>\n",
       "      <td>다입자계를 묘사하는 편미분방정식에 대한 연구</td>\n",
       "      <td>자연계에는 입자의 개수가 아주 큰 다양한 다입자계가 존재한다.  이런 다입자계의 효...</td>\n",
       "      <td>연구과제1. 무한입자계의 동역학 / 작용소(operator) 방정식에 대한 연구\\n...</td>\n",
       "      <td>본 연구는 물리학에서 중요한 대상인 다입자계를 묘사하는 모델방정식의 정당성을 보장하...</td>\n",
       "      <td>다체계 방정식,동역학의 안정성,양자역학,고전역학,평균장 극한,고전극한,비상대론적 극한</td>\n",
       "      <td>many particle system,stability of dynamics,qua...</td>\n",
       "    </tr>\n",
       "    <tr>\n",
       "      <td>2</td>\n",
       "      <td>174306</td>\n",
       "      <td>2017</td>\n",
       "      <td>개인기초연구(미래부)</td>\n",
       "      <td>과학기술정보통신부</td>\n",
       "      <td>계속</td>\n",
       "      <td>자유공모</td>\n",
       "      <td>저출생체중아 가족을 위한 지역사회중심의 퇴원후 추후관리프로그램 개발</td>\n",
       "      <td>저출생체중아는 정상 체중 출생아에 비하여 운동, 정신, 행동 및 정서발달장애가 빈번...</td>\n",
       "      <td>본 연구는 퇴원 후 저출생체중아의 퇴원 후 추후관리 프로그램 중 가정방문 모델과 가...</td>\n",
       "      <td>본 연구는 저출생체중아 가족 대상의 지역사회기반의 추후관리 사업에 대한 구체적인 모...</td>\n",
       "      <td>저출생체중아,추후관리,조기개입,자조모임,가정방문</td>\n",
       "      <td>lowbirthweightinfant,followup,earlyinterventio...</td>\n",
       "    </tr>\n",
       "  </tbody>\n",
       "</table>\n",
       "</div>"
      ],
      "text/plain": [
       "    index  제출년도                 사업명     사업_부처명 계속과제여부                  내역사업명  \\\n",
       "0  174304  2016           경제협력권산업육성    산업통상자원부     신규                자동차융합부품   \n",
       "1  174305  2018  개인기초연구(과기정통부)(R&D)  과학기술정보통신부     계속  신진연구(총연구비5천이상~1.5억이하)   \n",
       "2  174306  2017         개인기초연구(미래부)  과학기술정보통신부     계속                   자유공모   \n",
       "\n",
       "                                                 과제명  \\\n",
       "0  R-FSSW 기술 적용 경량 차체 부품 개발 및 품질 평가를 위한 64채널 C-SC...   \n",
       "1                           다입자계를 묘사하는 편미분방정식에 대한 연구   \n",
       "2              저출생체중아 가족을 위한 지역사회중심의 퇴원후 추후관리프로그램 개발   \n",
       "\n",
       "                                            요약문_연구목표  \\\n",
       "0  ○ 차체 점용접부의 품질 검사를 위한 64채널 무선 기반 C-Scan 탐촉자 개발\\...   \n",
       "1  자연계에는 입자의 개수가 아주 큰 다양한 다입자계가 존재한다.  이런 다입자계의 효...   \n",
       "2  저출생체중아는 정상 체중 출생아에 비하여 운동, 정신, 행동 및 정서발달장애가 빈번...   \n",
       "\n",
       "                                            요약문_연구내용  \\\n",
       "0  ○ 1차년도\\n\\n    . 개발 탐촉 시스템의 성능 평가 위한 표준 시편 제작 시...   \n",
       "1  연구과제1. 무한입자계의 동역학 / 작용소(operator) 방정식에 대한 연구\\n...   \n",
       "2  본 연구는 퇴원 후 저출생체중아의 퇴원 후 추후관리 프로그램 중 가정방문 모델과 가...   \n",
       "\n",
       "                                            요약문_기대효과  \\\n",
       "0  ○ 기술적 파급효과\\n\\n  - 본 연구에서 개발된 R-FSSW 접합 기술은 기존 ...   \n",
       "1  본 연구는 물리학에서 중요한 대상인 다입자계를 묘사하는 모델방정식의 정당성을 보장하...   \n",
       "2  본 연구는 저출생체중아 가족 대상의 지역사회기반의 추후관리 사업에 대한 구체적인 모...   \n",
       "\n",
       "                                         요약문_한글키워드  \\\n",
       "0          마찰교반점용접, 비파괴 검사, 초음파 탐상, 씨 스캔, 용접 품질 평가   \n",
       "1  다체계 방정식,동역학의 안정성,양자역학,고전역학,평균장 극한,고전극한,비상대론적 극한   \n",
       "2                       저출생체중아,추후관리,조기개입,자조모임,가정방문   \n",
       "\n",
       "                                           요약문_영문키워드  \n",
       "0  Friction Stir Spot Welding, Non-destructive ev...  \n",
       "1  many particle system,stability of dynamics,qua...  \n",
       "2  lowbirthweightinfant,followup,earlyinterventio...  "
      ]
     },
     "execution_count": 6,
     "metadata": {},
     "output_type": "execute_result"
    }
   ],
   "source": [
    "test.head(3)"
   ]
  },
  {
   "cell_type": "code",
   "execution_count": 7,
   "metadata": {},
   "outputs": [],
   "source": [
    "#labels_mapping = pd.read_csv('../data/labels_mapping_detailed.csv', index=False, encoding='utf-8-sig')\n",
    "#labels_mapping.head()"
   ]
  },
  {
   "cell_type": "code",
   "execution_count": 8,
   "metadata": {},
   "outputs": [
    {
     "data": {
      "text/html": [
       "<div>\n",
       "<style scoped>\n",
       "    .dataframe tbody tr th:only-of-type {\n",
       "        vertical-align: middle;\n",
       "    }\n",
       "\n",
       "    .dataframe tbody tr th {\n",
       "        vertical-align: top;\n",
       "    }\n",
       "\n",
       "    .dataframe thead th {\n",
       "        text-align: right;\n",
       "    }\n",
       "</style>\n",
       "<table border=\"1\" class=\"dataframe\">\n",
       "  <thead>\n",
       "    <tr style=\"text-align: right;\">\n",
       "      <th></th>\n",
       "      <th>index</th>\n",
       "      <th>label</th>\n",
       "    </tr>\n",
       "  </thead>\n",
       "  <tbody>\n",
       "    <tr>\n",
       "      <td>0</td>\n",
       "      <td>174304</td>\n",
       "      <td>0</td>\n",
       "    </tr>\n",
       "    <tr>\n",
       "      <td>1</td>\n",
       "      <td>174305</td>\n",
       "      <td>0</td>\n",
       "    </tr>\n",
       "    <tr>\n",
       "      <td>2</td>\n",
       "      <td>174306</td>\n",
       "      <td>0</td>\n",
       "    </tr>\n",
       "    <tr>\n",
       "      <td>3</td>\n",
       "      <td>174307</td>\n",
       "      <td>0</td>\n",
       "    </tr>\n",
       "    <tr>\n",
       "      <td>4</td>\n",
       "      <td>174308</td>\n",
       "      <td>0</td>\n",
       "    </tr>\n",
       "  </tbody>\n",
       "</table>\n",
       "</div>"
      ],
      "text/plain": [
       "    index  label\n",
       "0  174304      0\n",
       "1  174305      0\n",
       "2  174306      0\n",
       "3  174307      0\n",
       "4  174308      0"
      ]
     },
     "execution_count": 8,
     "metadata": {},
     "output_type": "execute_result"
    }
   ],
   "source": [
    "sample_submission.head(5)"
   ]
  },
  {
   "cell_type": "code",
   "execution_count": 9,
   "metadata": {},
   "outputs": [
    {
     "name": "stdout",
     "output_type": "stream",
     "text": [
      "(174304, 13)\n",
      "(43576, 12)\n",
      "(43576, 2)\n"
     ]
    }
   ],
   "source": [
    "print(train.shape)\n",
    "print(test.shape)\n",
    "print(sample_submission.shape)"
   ]
  },
  {
   "cell_type": "markdown",
   "metadata": {},
   "source": [
    "## EDA"
   ]
  },
  {
   "cell_type": "markdown",
   "metadata": {},
   "source": [
    "### Title of Projects"
   ]
  },
  {
   "cell_type": "code",
   "execution_count": 10,
   "metadata": {},
   "outputs": [
    {
     "name": "stdout",
     "output_type": "stream",
     "text": [
      "과제명 길이 최댓값: 229\n",
      "과제명 길이 최솟값: 2\n",
      "과제명 길이 평균값: 35.84252225995961\n",
      "과제명 길이 중간값: 34.0\n"
     ]
    },
    {
     "data": {
      "image/png": "[encoded data removed]",
      "text/plain": [
       "<Figure size 432x288 with 1 Axes>"
      ]
     },
     "metadata": {
      "needs_background": "light"
     },
     "output_type": "display_data"
    },
    {
     "data": {
      "image/png": "[encoded data removed]",
      "text/plain": [
       "<Figure size 864x360 with 1 Axes>"
      ]
     },
     "metadata": {
      "needs_background": "light"
     },
     "output_type": "display_data"
    }
   ],
   "source": [
    "length=train['과제명'].astype(str).apply(len)\n",
    "plt.hist(length, bins=50, alpha=0.5, color='r', label='word')\n",
    "plt.title('histogram of length of task_name')\n",
    "plt.figure(figsize=(12, 5))\n",
    "plt.boxplot(length, labels=['counts'], showmeans=True)\n",
    "print('과제명 길이 최댓값: {}'.format(np.max(length)))\n",
    "print('과제명 길이 최솟값: {}'.format(np.min(length)))\n",
    "print('과제명 길이 평균값: {}'.format(np.mean(length)))\n",
    "print('과제명 길이 중간값: {}'.format(np.median(length)))"
   ]
  },
  {
   "cell_type": "markdown",
   "metadata": {},
   "source": [
    "### Abstracts - Research Details"
   ]
  },
  {
   "cell_type": "code",
   "execution_count": 11,
   "metadata": {},
   "outputs": [
    {
     "name": "stdout",
     "output_type": "stream",
     "text": [
      "요약문_연구내용 길이 최댓값: 3999\n",
      "요약문_연구내용 길이 최솟값: 1\n",
      "요약문_연구내용 길이 평균값: 699.2930282724435\n",
      "요약문_연구내용 길이 중간값: 597.0\n"
     ]
    },
    {
     "data": {
      "image/png": "[encoded data removed]",
      "text/plain": [
       "<Figure size 432x288 with 1 Axes>"
      ]
     },
     "metadata": {
      "needs_background": "light"
     },
     "output_type": "display_data"
    },
    {
     "data": {
      "image/png": "[encoded data removed]",
      "text/plain": [
       "<Figure size 864x360 with 1 Axes>"
      ]
     },
     "metadata": {
      "needs_background": "light"
     },
     "output_type": "display_data"
    }
   ],
   "source": [
    "length=train['요약문_연구내용'].astype(str).apply(len)\n",
    "plt.hist(length, bins=50, alpha=0.5, color='r', label='word')\n",
    "plt.title('histogram of length of summary_content')\n",
    "plt.figure(figsize=(12, 5))\n",
    "plt.boxplot(length, labels=['counts'], showmeans=True)\n",
    "print('요약문_연구내용 길이 최댓값: {}'.format(np.max(length)))\n",
    "print('요약문_연구내용 길이 최솟값: {}'.format(np.min(length)))\n",
    "print('요약문_연구내용 길이 평균값: {}'.format(np.mean(length)))\n",
    "print('요약문_연구내용 길이 중간값: {}'.format(np.median(length)))"
   ]
  },
  {
   "cell_type": "markdown",
   "metadata": {},
   "source": [
    "### Abstract - Expected Outcome"
   ]
  },
  {
   "cell_type": "code",
   "execution_count": 12,
   "metadata": {},
   "outputs": [
    {
     "name": "stdout",
     "output_type": "stream",
     "text": [
      "요약문_기대효과 길이 최댓값: 3649\n",
      "요약문_기대효과 길이 최솟값: 1\n",
      "요약문_기대효과 길이 평균값: 400.4864374885258\n",
      "요약문_기대효과 길이 중간값: 329.0\n"
     ]
    },
    {
     "data": {
      "image/png": "[encoded data removed]",
      "text/plain": [
       "<Figure size 432x288 with 1 Axes>"
      ]
     },
     "metadata": {
      "needs_background": "light"
     },
     "output_type": "display_data"
    },
    {
     "data": {
      "image/png": "[encoded data removed]",
      "text/plain": [
       "<Figure size 864x360 with 1 Axes>"
      ]
     },
     "metadata": {
      "needs_background": "light"
     },
     "output_type": "display_data"
    }
   ],
   "source": [
    "length=train['요약문_기대효과'].astype(str).apply(len)\n",
    "plt.hist(length, bins=50, alpha=0.5, color='r', label='word')\n",
    "plt.title('histogram of length of summary_effect')\n",
    "plt.figure(figsize=(12, 5))\n",
    "plt.boxplot(length, labels=['counts'], showmeans=True)\n",
    "print('요약문_기대효과 길이 최댓값: {}'.format(np.max(length)))\n",
    "print('요약문_기대효과 길이 최솟값: {}'.format(np.min(length)))\n",
    "print('요약문_기대효과 길이 평균값: {}'.format(np.mean(length)))\n",
    "print('요약문_기대효과 길이 중간값: {}'.format(np.median(length)))"
   ]
  },
  {
   "cell_type": "markdown",
   "metadata": {},
   "source": [
    "## Data Preprocessing"
   ]
  },
  {
   "cell_type": "code",
   "execution_count": 13,
   "metadata": {},
   "outputs": [],
   "source": [
    "#해당 baseline 에서는 과제명 columns만 활용했습니다.\n",
    "#다채로운 변수 활용법으로 성능을 높여주세요!\n",
    "train=train[['과제명','label']]\n",
    "test=test[['과제명']]"
   ]
  },
  {
   "cell_type": "code",
   "execution_count": 14,
   "metadata": {},
   "outputs": [
    {
     "data": {
      "text/html": [
       "<div>\n",
       "<style scoped>\n",
       "    .dataframe tbody tr th:only-of-type {\n",
       "        vertical-align: middle;\n",
       "    }\n",
       "\n",
       "    .dataframe tbody tr th {\n",
       "        vertical-align: top;\n",
       "    }\n",
       "\n",
       "    .dataframe thead th {\n",
       "        text-align: right;\n",
       "    }\n",
       "</style>\n",
       "<table border=\"1\" class=\"dataframe\">\n",
       "  <thead>\n",
       "    <tr style=\"text-align: right;\">\n",
       "      <th></th>\n",
       "      <th>과제명</th>\n",
       "      <th>label</th>\n",
       "    </tr>\n",
       "  </thead>\n",
       "  <tbody>\n",
       "    <tr>\n",
       "      <td>0</td>\n",
       "      <td>유전정보를 활용한 새로운 해충 분류군 동정기술 개발</td>\n",
       "      <td>24</td>\n",
       "    </tr>\n",
       "    <tr>\n",
       "      <td>1</td>\n",
       "      <td>대장암의 TRAIL 내성 표적 인자 발굴 및 TRAIL 반응 예측 유전자 지도 구축...</td>\n",
       "      <td>0</td>\n",
       "    </tr>\n",
       "    <tr>\n",
       "      <td>2</td>\n",
       "      <td>비목질계 셀룰로오스 식물자원을 활용한 기능성 부직포 및 고부가가치 뷰티케어 faci...</td>\n",
       "      <td>0</td>\n",
       "    </tr>\n",
       "    <tr>\n",
       "      <td>3</td>\n",
       "      <td>소화기 암 진단용 분자영상 형광프로브 개발</td>\n",
       "      <td>0</td>\n",
       "    </tr>\n",
       "    <tr>\n",
       "      <td>4</td>\n",
       "      <td>위암환자의 항암제반응예측을 위한 BRCA 발현검사</td>\n",
       "      <td>0</td>\n",
       "    </tr>\n",
       "    <tr>\n",
       "      <td>5</td>\n",
       "      <td>국제 핵융합 재료조사시설(IFMIF)의 안정적 운전을 위한 고강도 빔 물리 연구</td>\n",
       "      <td>2</td>\n",
       "    </tr>\n",
       "    <tr>\n",
       "      <td>6</td>\n",
       "      <td>마이크로시스를 적용한 옥내·외 겸용 광케이블 개발</td>\n",
       "      <td>0</td>\n",
       "    </tr>\n",
       "    <tr>\n",
       "      <td>7</td>\n",
       "      <td>임상·오믹스 정보 통합 개방형 플랫폼 구축 및 다기관 검증</td>\n",
       "      <td>0</td>\n",
       "    </tr>\n",
       "    <tr>\n",
       "      <td>8</td>\n",
       "      <td>IoT기반 수출배 선과장 물류체계화 기술개발</td>\n",
       "      <td>0</td>\n",
       "    </tr>\n",
       "    <tr>\n",
       "      <td>9</td>\n",
       "      <td>지역 창조경제 생태계 활성화를 위한 바이오산업 인재 양성</td>\n",
       "      <td>0</td>\n",
       "    </tr>\n",
       "  </tbody>\n",
       "</table>\n",
       "</div>"
      ],
      "text/plain": [
       "                                                 과제명  label\n",
       "0                       유전정보를 활용한 새로운 해충 분류군 동정기술 개발     24\n",
       "1  대장암의 TRAIL 내성 표적 인자 발굴 및 TRAIL 반응 예측 유전자 지도 구축...      0\n",
       "2  비목질계 셀룰로오스 식물자원을 활용한 기능성 부직포 및 고부가가치 뷰티케어 faci...      0\n",
       "3                            소화기 암 진단용 분자영상 형광프로브 개발      0\n",
       "4                        위암환자의 항암제반응예측을 위한 BRCA 발현검사      0\n",
       "5       국제 핵융합 재료조사시설(IFMIF)의 안정적 운전을 위한 고강도 빔 물리 연구      2\n",
       "6                        마이크로시스를 적용한 옥내·외 겸용 광케이블 개발      0\n",
       "7                   임상·오믹스 정보 통합 개방형 플랫폼 구축 및 다기관 검증      0\n",
       "8                           IoT기반 수출배 선과장 물류체계화 기술개발      0\n",
       "9                    지역 창조경제 생태계 활성화를 위한 바이오산업 인재 양성      0"
      ]
     },
     "execution_count": 14,
     "metadata": {},
     "output_type": "execute_result"
    }
   ],
   "source": [
    "train.head(10)"
   ]
  },
  {
   "cell_type": "code",
   "execution_count": 15,
   "metadata": {},
   "outputs": [
    {
     "data": {
      "text/html": [
       "<div>\n",
       "<style scoped>\n",
       "    .dataframe tbody tr th:only-of-type {\n",
       "        vertical-align: middle;\n",
       "    }\n",
       "\n",
       "    .dataframe tbody tr th {\n",
       "        vertical-align: top;\n",
       "    }\n",
       "\n",
       "    .dataframe thead th {\n",
       "        text-align: right;\n",
       "    }\n",
       "</style>\n",
       "<table border=\"1\" class=\"dataframe\">\n",
       "  <thead>\n",
       "    <tr style=\"text-align: right;\">\n",
       "      <th></th>\n",
       "      <th>과제명</th>\n",
       "    </tr>\n",
       "  </thead>\n",
       "  <tbody>\n",
       "    <tr>\n",
       "      <td>0</td>\n",
       "      <td>R-FSSW 기술 적용 경량 차체 부품 개발 및 품질 평가를 위한 64채널 C-SC...</td>\n",
       "    </tr>\n",
       "    <tr>\n",
       "      <td>1</td>\n",
       "      <td>다입자계를 묘사하는 편미분방정식에 대한 연구</td>\n",
       "    </tr>\n",
       "    <tr>\n",
       "      <td>2</td>\n",
       "      <td>저출생체중아 가족을 위한 지역사회중심의 퇴원후 추후관리프로그램 개발</td>\n",
       "    </tr>\n",
       "    <tr>\n",
       "      <td>3</td>\n",
       "      <td>폴리싱용 5축 CNC 정밀 마이크로 시스템 개발</td>\n",
       "    </tr>\n",
       "    <tr>\n",
       "      <td>4</td>\n",
       "      <td>다결정재료의 미세조직구조를 고려한 확률론적 응력부식균열 생성예측모델 개발</td>\n",
       "    </tr>\n",
       "    <tr>\n",
       "      <td>5</td>\n",
       "      <td>DC 그리드용 차세대 DC 전력차단기에 관한 연구</td>\n",
       "    </tr>\n",
       "    <tr>\n",
       "      <td>6</td>\n",
       "      <td>현존선을 LNG연료추진선으로 Retrofit하기 위한 기술개발</td>\n",
       "    </tr>\n",
       "    <tr>\n",
       "      <td>7</td>\n",
       "      <td>전이 암세포의 점탄성 관련 keratin 재구축 조절 타겟들의 암 미세환경에서의 역...</td>\n",
       "    </tr>\n",
       "    <tr>\n",
       "      <td>8</td>\n",
       "      <td>국민안전 분석기술 개발</td>\n",
       "    </tr>\n",
       "    <tr>\n",
       "      <td>9</td>\n",
       "      <td>선택적 방사선 감응 기반 차세대 고성능 양이온 이차전지용 세퍼레이터 개발</td>\n",
       "    </tr>\n",
       "  </tbody>\n",
       "</table>\n",
       "</div>"
      ],
      "text/plain": [
       "                                                 과제명\n",
       "0  R-FSSW 기술 적용 경량 차체 부품 개발 및 품질 평가를 위한 64채널 C-SC...\n",
       "1                           다입자계를 묘사하는 편미분방정식에 대한 연구\n",
       "2              저출생체중아 가족을 위한 지역사회중심의 퇴원후 추후관리프로그램 개발\n",
       "3                         폴리싱용 5축 CNC 정밀 마이크로 시스템 개발\n",
       "4           다결정재료의 미세조직구조를 고려한 확률론적 응력부식균열 생성예측모델 개발\n",
       "5                        DC 그리드용 차세대 DC 전력차단기에 관한 연구\n",
       "6                 현존선을 LNG연료추진선으로 Retrofit하기 위한 기술개발\n",
       "7  전이 암세포의 점탄성 관련 keratin 재구축 조절 타겟들의 암 미세환경에서의 역...\n",
       "8                                       국민안전 분석기술 개발\n",
       "9           선택적 방사선 감응 기반 차세대 고성능 양이온 이차전지용 세퍼레이터 개발"
      ]
     },
     "execution_count": 15,
     "metadata": {},
     "output_type": "execute_result"
    }
   ],
   "source": [
    "test.head(10)"
   ]
  },
  {
   "cell_type": "code",
   "execution_count": 16,
   "metadata": {},
   "outputs": [],
   "source": [
    "#1. re.sub 한글 및 공백을 제외한 문자 제거\n",
    "#2. okt 객체를 활용해 형태소 단위로 나눔 - 더욱 정확한 형태소 파싱이 필요할 수 있다\n",
    "#3. remove_stopwords로 불용어 제거 - 불용어 처리를 위한 룰 추가 필요\n",
    "\n",
    "def preprocessing(text, okt, remove_stopwords=False, stop_words=[]):\n",
    "    text=re.sub(\"[^가-힣ㄱ-ㅎㅏ-ㅣ]\",\"\", text)\n",
    "    word_text=okt.morphs(text, stem=True)\n",
    "    if remove_stopwords:\n",
    "        word_review=[token for token in word_text if not token in stop_words]\n",
    "    return word_review"
   ]
  },
  {
   "cell_type": "code",
   "execution_count": 17,
   "metadata": {},
   "outputs": [],
   "source": [
    "stop_words=['은','는','이','가', '하','아','것','들','의','있','되','수','보','주','등','한']\n",
    "okt=Okt()\n",
    "clean_train_text=[]\n",
    "clean_test_text=[]"
   ]
  },
  {
   "cell_type": "code",
   "execution_count": 18,
   "metadata": {},
   "outputs": [
    {
     "name": "stderr",
     "output_type": "stream",
     "text": [
      "100%|████████████████████████████████████████████████████████████████████████| 174304/174304 [1:29:45<00:00, 32.37it/s]\n"
     ]
    }
   ],
   "source": [
    "for text in tqdm.tqdm(train['과제명']):\n",
    "    try:\n",
    "        clean_train_text.append(preprocessing(text, okt, remove_stopwords=True, stop_words=stop_words))\n",
    "    except:\n",
    "        clean_train_text.append([])"
   ]
  },
  {
   "cell_type": "code",
   "execution_count": 19,
   "metadata": {},
   "outputs": [
    {
     "name": "stderr",
     "output_type": "stream",
     "text": [
      "100%|██████████████████████████████████████████████████████████████████████████| 43576/43576 [2:27:14<00:00,  4.93it/s]\n"
     ]
    }
   ],
   "source": [
    "for text in tqdm.tqdm(test['과제명']):\n",
    "    if type(text) == str:\n",
    "        clean_test_text.append(preprocessing(text, okt, remove_stopwords=True, stop_words=stop_words))\n",
    "    else:\n",
    "        clean_test_text.append([])"
   ]
  },
  {
   "cell_type": "code",
   "execution_count": 20,
   "metadata": {},
   "outputs": [
    {
     "data": {
      "text/plain": [
       "(174304, 43576)"
      ]
     },
     "execution_count": 20,
     "metadata": {},
     "output_type": "execute_result"
    }
   ],
   "source": [
    "len(clean_train_text), len(clean_test_text)"
   ]
  },
  {
   "cell_type": "code",
   "execution_count": 21,
   "metadata": {},
   "outputs": [],
   "source": [
    "import json\n",
    "\n",
    "with open(\"clean_train_text.json\", 'w') as f:\n",
    "    json.dump(clean_train_text, f, indent=2)\n",
    "with open(\"clean_test_text.json\", \"w\") as f:\n",
    "    json.dump(clean_test_text, f, indent=2)"
   ]
  },
  {
   "cell_type": "markdown",
   "metadata": {},
   "source": [
    "### Load the processed text files"
   ]
  },
  {
   "cell_type": "code",
   "execution_count": 22,
   "metadata": {},
   "outputs": [
    {
     "ename": "NameError",
     "evalue": "name 'r' is not defined",
     "output_type": "error",
     "traceback": [
      "\u001B[1;31m---------------------------------------------------------------------------\u001B[0m",
      "\u001B[1;31mNameError\u001B[0m                                 Traceback (most recent call last)",
      "\u001B[1;32m<ipython-input-22-db74776f1d16>\u001B[0m in \u001B[0;36m<module>\u001B[1;34m\u001B[0m\n\u001B[0;32m      2\u001B[0m     \u001B[0mclean_train_text\u001B[0m \u001B[1;33m=\u001B[0m \u001B[0mjson\u001B[0m\u001B[1;33m.\u001B[0m\u001B[0mload\u001B[0m\u001B[1;33m(\u001B[0m\u001B[0mf\u001B[0m\u001B[1;33m)\u001B[0m\u001B[1;33m\u001B[0m\u001B[1;33m\u001B[0m\u001B[0m\n\u001B[0;32m      3\u001B[0m \u001B[1;32mwith\u001B[0m \u001B[0mopen\u001B[0m\u001B[1;33m(\u001B[0m\u001B[1;34m\"clean_test_text.json\"\u001B[0m\u001B[1;33m,\u001B[0m \u001B[1;34m\"r\"\u001B[0m\u001B[1;33m)\u001B[0m \u001B[1;32mas\u001B[0m \u001B[0mf\u001B[0m\u001B[1;33m:\u001B[0m\u001B[1;33m\u001B[0m\u001B[1;33m\u001B[0m\u001B[0m\n\u001B[1;32m----> 4\u001B[1;33m     \u001B[0mclean_test_text\u001B[0m \u001B[1;33m=\u001B[0m \u001B[0mjson\u001B[0m\u001B[1;33m.\u001B[0m\u001B[0mload\u001B[0m\u001B[1;33m(\u001B[0m\u001B[0mr\u001B[0m\u001B[1;33m)\u001B[0m\u001B[1;33m\u001B[0m\u001B[1;33m\u001B[0m\u001B[0m\n\u001B[0m",
      "\u001B[1;31mNameError\u001B[0m: name 'r' is not defined"
     ]
    }
   ],
   "source": [
    "with open(\"clean_train_text.json\", \"r\") as f:\n",
    "    clean_train_text = json.load(f)\n",
    "with open(\"clean_test_text.json\", \"r\") as f:\n",
    "    clean_test_text = json.load(r)"
   ]
  },
  {
   "cell_type": "code",
   "execution_count": null,
   "metadata": {},
   "outputs": [],
   "source": [
    "from sklearn.feature_extraction.text import CountVectorizer\n",
    "\n",
    "vectorizer = CountVectorizer(tokenizer = lambda x: x, lowercase=False)\n",
    "train_features=vectorizer.fit_transform(clean_train_text)\n",
    "test_features=vectorizer.transform(clean_test_text)"
   ]
  },
  {
   "cell_type": "code",
   "execution_count": null,
   "metadata": {},
   "outputs": [],
   "source": [
    "train_features, test_features"
   ]
  },
  {
   "cell_type": "markdown",
   "metadata": {},
   "source": [
    "## Modeling"
   ]
  },
  {
   "cell_type": "code",
   "execution_count": null,
   "metadata": {},
   "outputs": [],
   "source": [
    "test_size = 0.2\n",
    "random_seed = 42\n",
    "\n",
    "train_x, eval_x, train_y, eval_y = train_test_split(train_features, train['label'], test_size = test_size, random_state = random_seed)"
   ]
  },
  {
   "cell_type": "code",
   "execution_count": null,
   "metadata": {},
   "outputs": [],
   "source": [
    "from sklearn.ensemble import RandomForestClassifier\n",
    "forest = RandomForestClassifier (n_estimators = 100)\n",
    "forest.fit(train_x, train_y)"
   ]
  },
  {
   "cell_type": "code",
   "execution_count": null,
   "metadata": {},
   "outputs": [],
   "source": [
    "forest.score(eval_x, eval_y)"
   ]
  },
  {
   "cell_type": "markdown",
   "metadata": {},
   "source": [
    "## Prediction and submission file"
   ]
  },
  {
   "cell_type": "code",
   "execution_count": null,
   "metadata": {},
   "outputs": [],
   "source": [
    "forest.predict(test_features)"
   ]
  },
  {
   "cell_type": "code",
   "execution_count": null,
   "metadata": {},
   "outputs": [],
   "source": [
    "sample_submission['label'] = forest.predict(test_features)"
   ]
  },
  {
   "cell_type": "code",
   "execution_count": null,
   "metadata": {},
   "outputs": [],
   "source": [
    "sample_submission"
   ]
  },
  {
   "cell_type": "code",
   "execution_count": null,
   "metadata": {},
   "outputs": [],
   "source": [
    "sample_submission.to_csv('rf_result.csv', index=False)"
   ]
  }
 ],
 "metadata": {
  "kernelspec": {
   "display_name": "Python 3",
   "language": "python",
   "name": "python3"
  }
 },
 "nbformat": 4,
 "nbformat_minor": 1
}